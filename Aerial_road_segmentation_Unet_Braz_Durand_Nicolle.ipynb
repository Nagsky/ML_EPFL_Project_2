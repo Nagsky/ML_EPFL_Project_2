{
 "cells": [
  {
   "cell_type": "markdown",
   "metadata": {
    "id": "hPwAC5ArWVpD"
   },
   "source": [
    "# Aerial images road segmentation with a Unet model"
   ]
  },
  {
   "cell_type": "markdown",
   "metadata": {},
   "source": [
    "by Braz Lucas, Durand Pierre-Alain and Nicolle Clement"
   ]
  },
  {
   "cell_type": "markdown",
   "metadata": {
    "id": "scWqOEtLWQ6V"
   },
   "source": [
    "### Importing libraries"
   ]
  },
  {
   "cell_type": "code",
   "execution_count": null,
   "metadata": {
    "executionInfo": {
     "elapsed": 6772,
     "status": "ok",
     "timestamp": 1639691441223,
     "user": {
      "displayName": "Lucas Braz",
      "photoUrl": "https://lh3.googleusercontent.com/a-/AOh14GhzqPaVPyByKy00iCstN6KioNbzzllUKNjS3YQ8oQ=s64",
      "userId": "11938567766904941137"
     },
     "user_tz": -60
    },
    "id": "gRbHx9WSqDyK"
   },
   "outputs": [],
   "source": [
    "%matplotlib inline\n",
    "import os\n",
    "\n",
    "import matplotlib.image as mpimg\n",
    "import numpy as np\n",
    "import torch\n",
    "import torch.nn as nn\n",
    "from sklearn.model_selection import train_test_split\n",
    "\n",
    "from src import utils\n",
    "from src.runners import train_epoch, validate_epoch\n",
    "from src.utils import (\n",
    "    imshow_overlay_test,\n",
    "    imshow_overlay_validation,\n",
    "    load_model,\n",
    "    masks_to_submission,\n",
    "    rotate45,\n",
    "    save_model,\n",
    ")"
   ]
  },
  {
   "cell_type": "markdown",
   "metadata": {},
   "source": [
    "### Verify if a GPU is usable"
   ]
  },
  {
   "cell_type": "code",
   "execution_count": null,
   "metadata": {},
   "outputs": [],
   "source": [
    "# If a GPU is available\n",
    "if not torch.cuda.is_available():\n",
    "    raise Exception(\n",
    "        \"Things will go much quicker if you enable a GPU in Colab under\"\n",
    "        \" 'Runtime / Change Runtime Type'\"\n",
    "    )\n",
    "device = torch.device(\"cuda\" if torch.cuda.is_available() else \"cpu\")"
   ]
  },
  {
   "cell_type": "code",
   "execution_count": null,
   "metadata": {},
   "outputs": [],
   "source": [
    "# percentage of pixels > 1 required to assign a foreground label to a patch\n",
    "foreground_threshold = 0.25"
   ]
  },
  {
   "cell_type": "markdown",
   "metadata": {
    "id": "QH20kwIOWKda"
   },
   "source": [
    "### Import and pre processing of data"
   ]
  },
  {
   "cell_type": "code",
   "execution_count": null,
   "metadata": {},
   "outputs": [],
   "source": [
    "dataset_train = []\n",
    "labels_train = []\n",
    "for x in (0, 1):\n",
    "    for y in (-1, 1):\n",
    "        for z in (-1, 1):\n",
    "            dataset_train += [\n",
    "                mpimg.imread(f\"training/images/satImage_{i:03}.png\").transpose(2, x, 1)[:, ::y, ::z]\n",
    "                for i in range(1, 101)\n",
    "            ]\n",
    "            dataset_train += [\n",
    "                rotate45(mpimg.imread(f\"training/images/satImage_{i:03}.png\")).transpose(2, x, 1)[\n",
    "                    :, ::y, ::z\n",
    "                ]\n",
    "                for i in range(1, 101)\n",
    "            ]\n",
    "\n",
    "            labels_train += [\n",
    "                mpimg.imread(f\"training/groundtruth/satImage_{i:03}.png\")\n",
    "                .round()\n",
    "                .astype(np.uint8)\n",
    "                .transpose(x == 0, x)[::y, ::z]\n",
    "                for i in range(1, 101)\n",
    "            ]\n",
    "            labels_train += [\n",
    "                rotate45(mpimg.imread(f\"training/groundtruth/satImage_{i:03}.png\"))\n",
    "                .round()\n",
    "                .astype(np.uint8)\n",
    "                .transpose(x == 0, x)[::y, ::z]\n",
    "                for i in range(1, 101)\n",
    "            ]"
   ]
  },
  {
   "cell_type": "code",
   "execution_count": null,
   "metadata": {},
   "outputs": [],
   "source": [
    "dataset_test = np.array(\n",
    "    [mpimg.imread(f\"test_set_images/test_{i}/test_{i}.png\") for i in range(1, 51)]\n",
    ")\n",
    "dataset_test = np.moveaxis(dataset_test, -1, 1)\n",
    "dataset_test = torch.from_numpy(dataset_test.copy())"
   ]
  },
  {
   "cell_type": "code",
   "execution_count": null,
   "metadata": {},
   "outputs": [],
   "source": [
    "print(f\"len(dataset_train) : {len(dataset_train)}\")\n",
    "print(f\"len(labels_train) : {len(labels_train)}\")\n",
    "print(f\"dataset_train[0].shape : {dataset_train[0].shape}\")\n",
    "print(f\"dataset_train[-1].shape : {dataset_train[-1].shape}\")\n",
    "print(f\"labels[0].shape : {labels_train[0].shape}\")\n",
    "print(f\"labels[-1].shape : {labels_train[-1].shape}\")\n",
    "print(f\"dataset_test.shape : {dataset_test.shape}\")"
   ]
  },
  {
   "cell_type": "code",
   "execution_count": null,
   "metadata": {
    "colab": {
     "base_uri": "https://localhost:8080/",
     "height": 415
    },
    "executionInfo": {
     "elapsed": 1098,
     "status": "ok",
     "timestamp": 1639672135457,
     "user": {
      "displayName": "Lucas Braz",
      "photoUrl": "https://lh3.googleusercontent.com/a-/AOh14GhzqPaVPyByKy00iCstN6KioNbzzllUKNjS3YQ8oQ=s64",
      "userId": "11938567766904941137"
     },
     "user_tz": -60
    },
    "id": "VzUowDypqDyU",
    "outputId": "c90f9ad1-d937-4719-e353-a43b331d7b11"
   },
   "outputs": [],
   "source": [
    "utils.imshow(dataset_train[-1])"
   ]
  },
  {
   "cell_type": "code",
   "execution_count": null,
   "metadata": {
    "colab": {
     "base_uri": "https://localhost:8080/",
     "height": 415
    },
    "executionInfo": {
     "elapsed": 244,
     "status": "ok",
     "timestamp": 1639672108160,
     "user": {
      "displayName": "Lucas Braz",
      "photoUrl": "https://lh3.googleusercontent.com/a-/AOh14GhzqPaVPyByKy00iCstN6KioNbzzllUKNjS3YQ8oQ=s64",
      "userId": "11938567766904941137"
     },
     "user_tz": -60
    },
    "id": "NAxChpiIqDyV",
    "outputId": "a37d4f83-7dce-4c94-a6eb-fe351daad8d1"
   },
   "outputs": [],
   "source": [
    "utils.imshow(labels_train[-1]);"
   ]
  },
  {
   "cell_type": "code",
   "execution_count": null,
   "metadata": {
    "colab": {
     "base_uri": "https://localhost:8080/",
     "height": 415
    },
    "executionInfo": {
     "elapsed": 58,
     "status": "ok",
     "timestamp": 1639671458809,
     "user": {
      "displayName": "Lucas Braz",
      "photoUrl": "https://lh3.googleusercontent.com/a-/AOh14GhzqPaVPyByKy00iCstN6KioNbzzllUKNjS3YQ8oQ=s64",
      "userId": "11938567766904941137"
     },
     "user_tz": -60
    },
    "id": "4TmWsntfqDyW",
    "outputId": "61d447e2-dc9f-43e4-88c4-a3762b475044"
   },
   "outputs": [],
   "source": [
    "utils.imshow(dataset_test[0]);"
   ]
  },
  {
   "cell_type": "code",
   "execution_count": null,
   "metadata": {
    "executionInfo": {
     "elapsed": 54,
     "status": "ok",
     "timestamp": 1639671458811,
     "user": {
      "displayName": "Lucas Braz",
      "photoUrl": "https://lh3.googleusercontent.com/a-/AOh14GhzqPaVPyByKy00iCstN6KioNbzzllUKNjS3YQ8oQ=s64",
      "userId": "11938567766904941137"
     },
     "user_tz": -60
    },
    "id": "lSZIpealqDyX"
   },
   "outputs": [],
   "source": [
    "random_seed = 0\n",
    "\n",
    "train_size = 0.95\n",
    "\n",
    "inputs_train, inputs_valid = train_test_split(\n",
    "    dataset_train, random_state=random_seed, train_size=train_size, shuffle=True\n",
    ")\n",
    "\n",
    "targets_train, targets_valid = train_test_split(\n",
    "    labels_train, random_state=random_seed, train_size=train_size, shuffle=True\n",
    ")\n",
    "\n",
    "inputs_train = [torch.from_numpy(img.copy()) for img in inputs_train]\n",
    "inputs_valid = [torch.from_numpy(img.copy()) for img in inputs_valid]\n",
    "targets_train = [torch.from_numpy(img.copy()).type(torch.LongTensor) for img in targets_train]\n",
    "targets_valid = [torch.from_numpy(img.copy()).type(torch.LongTensor) for img in targets_valid]"
   ]
  },
  {
   "cell_type": "code",
   "execution_count": null,
   "metadata": {},
   "outputs": [],
   "source": [
    "print(f\"inputs_train dtype : {inputs_train[0].dtype}\")\n",
    "print(f\"inputs_valid dtype : {inputs_valid[0].dtype}\")\n",
    "print(f\"targets_train dtype : {targets_train[0].dtype}\")\n",
    "print(f\"targets_valid dtype : {targets_valid[0].dtype}\")\n",
    "print(f\"dataset_test.dtype : {dataset_test.dtype}\")"
   ]
  },
  {
   "cell_type": "code",
   "execution_count": null,
   "metadata": {},
   "outputs": [],
   "source": [
    "# 1 image per batch actually\n",
    "dataset_training = [\n",
    "    [inputs_train[i][None], targets_train[i][None]] for i in range(len(inputs_train))\n",
    "]\n",
    "dataset_valid = [[inputs_valid[i][None], targets_valid[i][None]] for i in range(len(inputs_valid))]"
   ]
  },
  {
   "cell_type": "code",
   "execution_count": null,
   "metadata": {
    "executionInfo": {
     "elapsed": 302,
     "status": "ok",
     "timestamp": 1639671459076,
     "user": {
      "displayName": "Lucas Braz",
      "photoUrl": "https://lh3.googleusercontent.com/a-/AOh14GhzqPaVPyByKy00iCstN6KioNbzzllUKNjS3YQ8oQ=s64",
      "userId": "11938567766904941137"
     },
     "user_tz": -60
    },
    "id": "i-O9M9VMxIby"
   },
   "outputs": [],
   "source": [
    "os.makedirs(\"unet_states/Unet\", exist_ok=True)"
   ]
  },
  {
   "cell_type": "markdown",
   "metadata": {
    "id": "VMyvcftAsF8b"
   },
   "source": [
    "### launch"
   ]
  },
  {
   "cell_type": "code",
   "execution_count": null,
   "metadata": {},
   "outputs": [],
   "source": [
    "# load model\n",
    "# set to 0 to start from scratch again or to 'latest' to continue training from saved checkpoint\n",
    "start_epoch = \"latest\"\n",
    "model, epoch = load_model(epoch=start_epoch)\n",
    "model = model.to(device)\n",
    "\n",
    "# optimizer\n",
    "try:\n",
    "    learning_rate = np.load(f\"unet_states/Unet/lr_epoch_{epoch}.npy\")[0]\n",
    "except FileNotFoundError:\n",
    "    learning_rate = np.load(\"unet_states/Unet/lr_epoch_0.npy\")[0]  # 0.01\n",
    "momentum = 0.9\n",
    "gamma = 0.95\n",
    "optim = torch.optim.SGD(model.parameters(), lr=learning_rate, momentum=momentum)\n",
    "lr_scheduler = torch.optim.lr_scheduler.ExponentialLR(optimizer=optim, gamma=gamma)\n",
    "min_loss = torch.tensor(float(\"inf\"))\n",
    "scheduler_counter = 0\n",
    "\n",
    "# criterion\n",
    "criterion = nn.CrossEntropyLoss().to(device)"
   ]
  },
  {
   "cell_type": "code",
   "execution_count": null,
   "metadata": {
    "id": "QEyX08uDxOtE"
   },
   "outputs": [],
   "source": [
    "num_epochs = epoch + 1\n",
    "\n",
    "# do epochs\n",
    "while epoch < num_epochs:\n",
    "    # training\n",
    "    model, loss_train, f1_train, oa_train = train_epoch(\n",
    "        dataset_training, model, optim, device, criterion\n",
    "    )\n",
    "\n",
    "    # validation\n",
    "    loss_val, f1_val, oa_val = validate_epoch(dataset_valid, model, device, criterion)\n",
    "\n",
    "    # print stats\n",
    "    str_output = (\n",
    "        f\"[Ep. {epoch + 1}/{num_epochs}] Loss train: {loss_train:.2f}, \"\n",
    "        \"Loss val: {loss_val:.2f}; F1 train: {100 * f1_train:.2f}, F1 val: {100 * f1_val:.2f}; \"\n",
    "        \"OA train: {100 * oa_train:.2f}, OA val: {100 * oa_val:.2f}\"\n",
    "    )\n",
    "    print(str_output)\n",
    "\n",
    "    # for LR scheduler\n",
    "    scheduler_counter += 1\n",
    "    is_best = loss_val < min_loss\n",
    "    if is_best:\n",
    "        scheduler_counter = 0\n",
    "        min_loss = min(loss_val, min_loss)\n",
    "\n",
    "    if scheduler_counter >= 2:\n",
    "        lr_scheduler.step()\n",
    "        scheduler_counter = 0\n",
    "    # end for LR scheduler\n",
    "\n",
    "    # save model\n",
    "    epoch += 1\n",
    "    save_model(model, epoch, str_output)\n",
    "    np.save(\n",
    "        f\"unet_states/Unet/lr_epoch_{epoch + 1}.npy\",\n",
    "        np.array([optim.state_dict()[\"param_groups\"][-1][\"lr\"]]),\n",
    "    )"
   ]
  },
  {
   "cell_type": "code",
   "execution_count": null,
   "metadata": {
    "colab": {
     "base_uri": "https://localhost:8080/",
     "height": 905
    },
    "executionInfo": {
     "elapsed": 2238,
     "status": "ok",
     "timestamp": 1639681933535,
     "user": {
      "displayName": "Lucas Braz",
      "photoUrl": "https://lh3.googleusercontent.com/a-/AOh14GhzqPaVPyByKy00iCstN6KioNbzzllUKNjS3YQ8oQ=s64",
      "userId": "11938567766904941137"
     },
     "user_tz": -60
    },
    "id": "etG3pAvLcNjH",
    "outputId": "bc55de83-502b-4427-d580-d0d1ea88973c"
   },
   "outputs": [],
   "source": [
    "img_to_show = (9, 7)\n",
    "imshow_overlay_validation(img_to_show, dataset_valid, model, device)"
   ]
  },
  {
   "cell_type": "code",
   "execution_count": null,
   "metadata": {},
   "outputs": [],
   "source": [
    "model.visu(dataset_test[0][None].to(device), imu3=15)"
   ]
  },
  {
   "cell_type": "markdown",
   "metadata": {
    "id": "XiIp9Qjwvx-1"
   },
   "source": [
    "### Verify results and create a submission"
   ]
  },
  {
   "cell_type": "code",
   "execution_count": null,
   "metadata": {},
   "outputs": [],
   "source": [
    "torch.cuda.empty_cache()"
   ]
  },
  {
   "cell_type": "code",
   "execution_count": null,
   "metadata": {},
   "outputs": [],
   "source": [
    "# To take the best model in order to create submission\n",
    "model, epoch = load_model(35)\n",
    "model = model.to(device)\n",
    "model = model.eval()"
   ]
  },
  {
   "cell_type": "code",
   "execution_count": null,
   "metadata": {
    "colab": {
     "base_uri": "https://localhost:8080/"
    },
    "executionInfo": {
     "elapsed": 15813,
     "status": "ok",
     "timestamp": 1639672250127,
     "user": {
      "displayName": "Lucas Braz",
      "photoUrl": "https://lh3.googleusercontent.com/a-/AOh14GhzqPaVPyByKy00iCstN6KioNbzzllUKNjS3YQ8oQ=s64",
      "userId": "11938567766904941137"
     },
     "user_tz": -60
    },
    "id": "yjtylcskltUP",
    "outputId": "164952b0-9b8d-4c2f-8fe1-2485aa51e9e8"
   },
   "outputs": [],
   "source": [
    "imgs = []\n",
    "for img in dataset_test:\n",
    "    with torch.no_grad():\n",
    "        output = model.forward(img[None].to(device))\n",
    "        yhat2 = output.argmax(dim=1).to(torch.float32)[0].cpu().numpy()\n",
    "    imgs.append(yhat2)\n",
    "print(len(imgs))\n",
    "print(imgs[0].shape)"
   ]
  },
  {
   "cell_type": "code",
   "execution_count": null,
   "metadata": {
    "colab": {
     "base_uri": "https://localhost:8080/",
     "height": 953
    },
    "executionInfo": {
     "elapsed": 1888,
     "status": "ok",
     "timestamp": 1639676439418,
     "user": {
      "displayName": "Lucas Braz",
      "photoUrl": "https://lh3.googleusercontent.com/a-/AOh14GhzqPaVPyByKy00iCstN6KioNbzzllUKNjS3YQ8oQ=s64",
      "userId": "11938567766904941137"
     },
     "user_tz": -60
    },
    "id": "sSBQWo1FOkXW",
    "outputId": "a7949150-0a20-4566-8c4f-f31f51fe1c13"
   },
   "outputs": [],
   "source": [
    "img_to_show = (2, 4, 6, 8)\n",
    "imshow_overlay_test(img_to_show, dataset_test, imgs)"
   ]
  },
  {
   "cell_type": "code",
   "execution_count": null,
   "metadata": {
    "executionInfo": {
     "elapsed": 46,
     "status": "aborted",
     "timestamp": 1639671496027,
     "user": {
      "displayName": "Lucas Braz",
      "photoUrl": "https://lh3.googleusercontent.com/a-/AOh14GhzqPaVPyByKy00iCstN6KioNbzzllUKNjS3YQ8oQ=s64",
      "userId": "11938567766904941137"
     },
     "user_tz": -60
    },
    "id": "DSAmWCyH_ErC"
   },
   "outputs": [],
   "source": [
    "number_submission = np.load(\"submissions/number_submission.npy\")[0]\n",
    "print(number_submission)"
   ]
  },
  {
   "cell_type": "code",
   "execution_count": null,
   "metadata": {
    "executionInfo": {
     "elapsed": 47,
     "status": "aborted",
     "timestamp": 1639671496028,
     "user": {
      "displayName": "Lucas Braz",
      "photoUrl": "https://lh3.googleusercontent.com/a-/AOh14GhzqPaVPyByKy00iCstN6KioNbzzllUKNjS3YQ8oQ=s64",
      "userId": "11938567766904941137"
     },
     "user_tz": -60
    },
    "id": "i8JfP7Ebu8-7"
   },
   "outputs": [],
   "source": [
    "submission_filename = f\"submissions/submission_{number_submission}_BRAZ_DURAND_NICOLLE.csv\"\n",
    "\n",
    "# actual best : 16 : F1 0.884\n",
    "masks_to_submission(submission_filename, imgs, foreground_threshold=foreground_threshold)\n",
    "number_submission += 1\n",
    "np.save(\"submissions/number_submission.npy\", np.array([number_submission]))"
   ]
  },
  {
   "cell_type": "code",
   "execution_count": null,
   "metadata": {},
   "outputs": [],
   "source": [
    "torch.cuda.empty_cache()"
   ]
  },
  {
   "cell_type": "markdown",
   "metadata": {
    "id": "uppJ3Ezaq4I2"
   },
   "source": [
    "_____________________________________________________________________________________________________________________________"
   ]
  }
 ],
 "metadata": {
  "accelerator": "GPU",
  "colab": {
   "collapsed_sections": [],
   "name": "Aerial_road_segmentation_Unet_Braz_Durand_Nicolle.ipynb",
   "provenance": []
  },
  "interpreter": {
   "hash": "b3ba2566441a7c06988d0923437866b63cedc61552a5af99d1f4fb67d367b25f"
  },
  "kernelspec": {
   "display_name": "Python 3.8.8 64-bit ('base': conda)",
   "language": "python",
   "name": "python3"
  },
  "language_info": {
   "codemirror_mode": {
    "name": "ipython",
    "version": 3
   },
   "file_extension": ".py",
   "mimetype": "text/x-python",
   "name": "python",
   "nbconvert_exporter": "python",
   "pygments_lexer": "ipython3",
   "version": "3.8.8"
  }
 },
 "nbformat": 4,
 "nbformat_minor": 0
}
